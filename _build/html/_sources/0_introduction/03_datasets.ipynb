{
 "cells": [
  {
   "attachments": {},
   "cell_type": "markdown",
   "metadata": {},
   "source": [
    "# Datasets"
   ]
  },
  {
   "attachments": {},
   "cell_type": "markdown",
   "metadata": {},
   "source": [
    "## Download"
   ]
  },
  {
   "attachments": {},
   "cell_type": "markdown",
   "metadata": {},
   "source": [
    "本ノートブックで使用するデータはGithubからダウンロードできるが，以下にPythonにより自動でダウンロードする方法を示す（推奨）．"
   ]
  },
  {
   "cell_type": "code",
   "execution_count": 1,
   "metadata": {},
   "outputs": [],
   "source": [
    "from pathlib import Path\n",
    "import urllib.request"
   ]
  },
  {
   "attachments": {},
   "cell_type": "markdown",
   "metadata": {},
   "source": [
    "以下はダウンロードするファイルの一覧である．"
   ]
  },
  {
   "cell_type": "code",
   "execution_count": 37,
   "metadata": {},
   "outputs": [],
   "source": [
    "baseurl = 'https://tk-neuron.github.io/meabook'\n",
    "\n",
    "# sub-directory: files\n",
    "files = {\n",
    "    '01': ['mapping.csv', 'spikes.csv'],\n",
    "    '02': ['spikes_unit.csv'],\n",
    "    '03': [],\n",
    "    '04': ['data.raw.h5'],\n",
    "}"
   ]
  },
  {
   "attachments": {},
   "cell_type": "markdown",
   "metadata": {},
   "source": [
    "デフォルトでは，このコードを実行する親ディレクトリ直下に`datasets/`ディレクトリを作り，その配下にサブディレクトリ `01`~`04`を作り，ファイル一覧をダウンロードする設定になっている．`datasets/`ディレクトリのパスは適宜変更可能．"
   ]
  },
  {
   "cell_type": "code",
   "execution_count": 36,
   "metadata": {
    "tags": [
     "remove-output"
    ]
   },
   "outputs": [
    {
     "name": "stdout",
     "output_type": "stream",
     "text": [
      "root for dataset:  /Users/TAKUMA/Downloads \n",
      "\n",
      "sub-directory:  /Users/TAKUMA/Downloads/01\n",
      "downloading file: mapping.csv from https://tk-neuron.github.io/meabook/01/mapping.csv.\n",
      "file saved in:  /Users/TAKUMA/Downloads/01/mapping.csv\n",
      "downloading file: spikes.csv from https://tk-neuron.github.io/meabook/01/spikes.csv.\n",
      "file saved in:  /Users/TAKUMA/Downloads/01/spikes.csv\n",
      "\n",
      "\n",
      "sub-directory:  /Users/TAKUMA/Downloads/02\n",
      "downloading file: spikes_unit.csv from https://tk-neuron.github.io/meabook/02/spikes_unit.csv.\n",
      "file saved in:  /Users/TAKUMA/Downloads/02/spikes_unit.csv\n",
      "\n",
      "\n",
      "sub-directory:  /Users/TAKUMA/Downloads/03\n",
      "\n",
      "\n",
      "sub-directory:  /Users/TAKUMA/Downloads/04\n",
      "downloading file: data.raw.h5 from https://tk-neuron.github.io/meabook/04/data.raw.h5.\n",
      "file saved in:  /Users/TAKUMA/Downloads/04/data.raw.h5\n",
      "\n",
      "\n"
     ]
    }
   ],
   "source": [
    "# create dataset directory (if already exists, pass)\n",
    "datadir = Path.joinpath(Path.cwd().parent, 'datasets')\n",
    "print('root for dataset: ', datadir, '\\n')\n",
    "Path(datadir).mkdir(exist_ok=True)\n",
    "\n",
    "# create sub-directories and download each file\n",
    "for key, values in files.items():\n",
    "    subdir = Path.joinpath(datadir, key)\n",
    "    print('sub-directory: ', subdir)\n",
    "    Path(subdir).mkdir(exist_ok=True)\n",
    "    \n",
    "    for value in values:\n",
    "        url = '/'.join([baseurl, key, value])\n",
    "        filename = '/'.join([str(datadir), key, value])\n",
    "        \n",
    "        print(f'downloading file: {value} from {url}.')\n",
    "        print('file saved in: ', filename)\n",
    "        urllib.request.urlretrieve(url, filename)\n",
    "        \n",
    "    print('\\n')"
   ]
  },
  {
   "attachments": {},
   "cell_type": "markdown",
   "metadata": {},
   "source": [
    "## For Colab Users"
   ]
  },
  {
   "attachments": {},
   "cell_type": "markdown",
   "metadata": {},
   "source": [
    "Python実行環境としてColabを用いる場合は，データセットをGoogle Driveを通じてやりとりする必要がある．この場合，マウントという特殊な手順が必要になる．\n",
    "\n",
    "まず，右上のロケットマークからOpen in Colabをクリックし，Colabのページを開く．\n",
    "\n",
    "```{admonition} Mount手順\n",
    "1. 左のメニューバーからFileアイコンをクリックし，Driveのアイコン付きのボタン（Mount Drive）をクリック．\n",
    "    または次のコードセルを実行する．\n",
    "    ```python\n",
    "    from google.colab import drive\n",
    "    drive.mount('/content/drive')\n",
    "    ```\n",
    "\n",
    "2. \"This notebook was not authored by Google\" という警告が出るので， \"Run Anyway\" を選択し， \"Connect to Google Drive\" へ．\n",
    "\n",
    "3. すると，別ウィンドウでGoogleの認証画面が出るので，アカウントを選択してログイン． \"Google Drive for desktop wants to access your Google Account\" の画面で \"Allow\" をクリック．\n",
    "\n",
    "4. \"Mounted at /content/drive\" が表示されたら完了．\n",
    "```"
   ]
  },
  {
   "attachments": {},
   "cell_type": "markdown",
   "metadata": {},
   "source": [
    "マウントが完了すると，Google Drive上のファイルパスをローカルと同じように指定することができる．例えばデータセットをダウンロードするディレクトリを以下のようにMy Drive直下に設定することが可能．"
   ]
  },
  {
   "cell_type": "code",
   "execution_count": 39,
   "metadata": {},
   "outputs": [
    {
     "data": {
      "text/plain": [
       "PosixPath('/content/drive/MyDrive/datasets')"
      ]
     },
     "execution_count": 39,
     "metadata": {},
     "output_type": "execute_result"
    }
   ],
   "source": [
    "datadir = Path.joinpath(Path('/content/drive/MyDrive/'), 'datasets')\n",
    "datadir"
   ]
  }
 ],
 "metadata": {
  "kernelspec": {
   "display_name": "venv",
   "language": "python",
   "name": "python3"
  },
  "language_info": {
   "codemirror_mode": {
    "name": "ipython",
    "version": 3
   },
   "file_extension": ".py",
   "mimetype": "text/x-python",
   "name": "python",
   "nbconvert_exporter": "python",
   "pygments_lexer": "ipython3",
   "version": "3.9.9"
  },
  "orig_nbformat": 4,
  "vscode": {
   "interpreter": {
    "hash": "18a2cb9a8970618a1ec9c4dea7c830ba2eb25be40c083e10e79c653f164f8df6"
   }
  }
 },
 "nbformat": 4,
 "nbformat_minor": 2
}
