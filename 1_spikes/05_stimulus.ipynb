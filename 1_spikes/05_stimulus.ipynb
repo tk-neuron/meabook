{
 "cells": [
  {
   "attachments": {},
   "cell_type": "markdown",
   "metadata": {},
   "source": [
    "# Peri-Stimulus Time Histogram\n",
    "MEAでは自発活動を計測するだけでなく，電気刺激（electrical stimulation）により特定の神経活動を誘発することも可能である．本ノートではこのような刺激イベントデータの解析で典型的に用いられるperi-stimulus time histogram（PSTH）について述べる．"
   ]
  },
  {
   "cell_type": "code",
   "execution_count": 9,
   "metadata": {},
   "outputs": [],
   "source": [
    "import numpy as np\n",
    "import pandas as pd\n",
    "import matplotlib.pyplot as plt"
   ]
  },
  {
   "cell_type": "code",
   "execution_count": null,
   "metadata": {},
   "outputs": [],
   "source": []
  }
 ],
 "metadata": {
  "kernelspec": {
   "display_name": "venv",
   "language": "python",
   "name": "python3"
  },
  "language_info": {
   "codemirror_mode": {
    "name": "ipython",
    "version": 3
   },
   "file_extension": ".py",
   "mimetype": "text/x-python",
   "name": "python",
   "nbconvert_exporter": "python",
   "pygments_lexer": "ipython3",
   "version": "3.9.9"
  },
  "orig_nbformat": 4,
  "vscode": {
   "interpreter": {
    "hash": "18a2cb9a8970618a1ec9c4dea7c830ba2eb25be40c083e10e79c653f164f8df6"
   }
  }
 },
 "nbformat": 4,
 "nbformat_minor": 2
}
